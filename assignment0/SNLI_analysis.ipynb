{
 "cells": [
  {
   "cell_type": "markdown",
   "metadata": {},
   "source": [
    "Importing the necessary packages\n"
   ]
  },
  {
   "cell_type": "code",
   "execution_count": 1,
   "metadata": {},
   "outputs": [
    {
     "name": "stderr",
     "output_type": "stream",
     "text": [
      "/Users/t.voitekh/.pyenv/versions/3.9.16/lib/python3.9/site-packages/tqdm/auto.py:21: TqdmWarning: IProgress not found. Please update jupyter and ipywidgets. See https://ipywidgets.readthedocs.io/en/stable/user_install.html\n",
      "  from .autonotebook import tqdm as notebook_tqdm\n"
     ]
    }
   ],
   "source": [
    "import numpy as np\n",
    "from datasets import load_dataset\n",
    "import pandas as pd\n",
    "import matplotlib.pyplot as plt\n",
    "import seaborn as sns"
   ]
  },
  {
   "cell_type": "markdown",
   "metadata": {},
   "source": [
    "Loading the dataset using HuggingFace Transformers\n"
   ]
  },
  {
   "cell_type": "code",
   "execution_count": 2,
   "metadata": {},
   "outputs": [],
   "source": [
    "dataset = load_dataset(\"snli\")"
   ]
  },
  {
   "cell_type": "markdown",
   "metadata": {},
   "source": [
    "Creating a subset of the dataset consisting of validation data and converting it to Pandas dataframe\n"
   ]
  },
  {
   "cell_type": "code",
   "execution_count": 3,
   "metadata": {},
   "outputs": [],
   "source": [
    "subset = dataset[\"validation\"]\n",
    "subset_df = pd.DataFrame(subset)"
   ]
  },
  {
   "cell_type": "markdown",
   "metadata": {},
   "source": [
    "Outputting a content of the first 5 entries of the dataframe\n"
   ]
  },
  {
   "cell_type": "code",
   "execution_count": 4,
   "metadata": {
    "scrolled": false
   },
   "outputs": [
    {
     "name": "stdout",
     "output_type": "stream",
     "text": [
      "Premise: Two women are embracing while holding to go packages.\n",
      "Hypothesis: The sisters are hugging goodbye while holding to go packages after just eating lunch.\n",
      "Label: 1\n",
      "\n",
      "Premise: Two women are embracing while holding to go packages.\n",
      "Hypothesis: Two woman are holding packages.\n",
      "Label: 0\n",
      "\n",
      "Premise: Two women are embracing while holding to go packages.\n",
      "Hypothesis: The men are fighting outside a deli.\n",
      "Label: 2\n",
      "\n",
      "Premise: Two young children in blue jerseys, one with the number 9 and one with the number 2 are standing on wooden steps in a bathroom and washing their hands in a sink.\n",
      "Hypothesis: Two kids in numbered jerseys wash their hands.\n",
      "Label: 0\n",
      "\n",
      "Premise: Two young children in blue jerseys, one with the number 9 and one with the number 2 are standing on wooden steps in a bathroom and washing their hands in a sink.\n",
      "Hypothesis: Two kids at a ballgame wash their hands.\n",
      "Label: 1\n",
      "\n"
     ]
    }
   ],
   "source": [
    "for index, row in subset_df.head(5).iterrows():\n",
    "    print(f\"Premise: {row['premise']}\")\n",
    "    print(f\"Hypothesis: {row['hypothesis']}\")\n",
    "    print(f\"Label: {row['label']}\\n\")"
   ]
  },
  {
   "cell_type": "markdown",
   "metadata": {},
   "source": [
    "Showing the distribution of the labels with a plot diagram. We can observe that the distribution is uniform apart from the \"unclassified\" label -1\n"
   ]
  },
  {
   "cell_type": "code",
   "execution_count": 5,
   "metadata": {},
   "outputs": [
    {
     "name": "stderr",
     "output_type": "stream",
     "text": [
      "/Users/t.voitekh/.pyenv/versions/3.9.16/lib/python3.9/site-packages/seaborn/_oldcore.py:1498: FutureWarning: is_categorical_dtype is deprecated and will be removed in a future version. Use isinstance(dtype, CategoricalDtype) instead\n",
      "  if pd.api.types.is_categorical_dtype(vector):\n",
      "/Users/t.voitekh/.pyenv/versions/3.9.16/lib/python3.9/site-packages/seaborn/_oldcore.py:1498: FutureWarning: is_categorical_dtype is deprecated and will be removed in a future version. Use isinstance(dtype, CategoricalDtype) instead\n",
      "  if pd.api.types.is_categorical_dtype(vector):\n",
      "/Users/t.voitekh/.pyenv/versions/3.9.16/lib/python3.9/site-packages/seaborn/_oldcore.py:1498: FutureWarning: is_categorical_dtype is deprecated and will be removed in a future version. Use isinstance(dtype, CategoricalDtype) instead\n",
      "  if pd.api.types.is_categorical_dtype(vector):\n"
     ]
    },
    {
     "data": {
      "image/png": "[encoded data removed]",
      "text/plain": [
       "<Figure size 800x500 with 1 Axes>"
      ]
     },
     "metadata": {},
     "output_type": "display_data"
    }
   ],
   "source": [
    "plt.figure(figsize=(8, 5))\n",
    "sns.countplot(x='label', data=subset_df)\n",
    "plt.title('Distribution of Labels')\n",
    "plt.show()"
   ]
  },
  {
   "cell_type": "markdown",
   "metadata": {},
   "source": [
    "Giving the overview of the lengths of premises and hypotheses contained in the dataset. We can observe that in general the length of premises is larger than the length of hypotheses\n"
   ]
  },
  {
   "cell_type": "code",
   "execution_count": 6,
   "metadata": {},
   "outputs": [
    {
     "name": "stdout",
     "output_type": "stream",
     "text": [
      "Premise Lengths (sample):\n",
      "0     53\n",
      "1     53\n",
      "2     53\n",
      "3    161\n",
      "4    161\n",
      "Name: premise, dtype: int64\n",
      "Hypothesis Lengths (sample):\n",
      "0    85\n",
      "1    31\n",
      "2    36\n",
      "3    46\n",
      "4    40\n",
      "Name: hypothesis, dtype: int64\n"
     ]
    }
   ],
   "source": [
    "premise_lengths = subset_df['premise'].apply(len)\n",
    "hypothesis_lengths = subset_df['hypothesis'].apply(len)\n",
    "print(\"Premise Lengths (sample):\")\n",
    "print(premise_lengths.head())\n",
    "print(\"Hypothesis Lengths (sample):\")\n",
    "print(hypothesis_lengths.head())"
   ]
  },
  {
   "cell_type": "markdown",
   "metadata": {},
   "source": [
    "Giving the distribution of the length values for premises and hupotheses contained in the dataset. From the plot we can see that most of the premises and hypotheses have length between 0 and 100 characters, with the most common value being approximately 50\n"
   ]
  },
  {
   "cell_type": "code",
   "execution_count": 7,
   "metadata": {},
   "outputs": [
    {
     "name": "stderr",
     "output_type": "stream",
     "text": [
      "/Users/t.voitekh/.pyenv/versions/3.9.16/lib/python3.9/site-packages/seaborn/_oldcore.py:1498: FutureWarning: is_categorical_dtype is deprecated and will be removed in a future version. Use isinstance(dtype, CategoricalDtype) instead\n",
      "  if pd.api.types.is_categorical_dtype(vector):\n",
      "/Users/t.voitekh/.pyenv/versions/3.9.16/lib/python3.9/site-packages/seaborn/_oldcore.py:1119: FutureWarning: use_inf_as_na option is deprecated and will be removed in a future version. Convert inf values to NaN before operating instead.\n",
      "  with pd.option_context('mode.use_inf_as_na', True):\n",
      "/Users/t.voitekh/.pyenv/versions/3.9.16/lib/python3.9/site-packages/seaborn/_oldcore.py:1498: FutureWarning: is_categorical_dtype is deprecated and will be removed in a future version. Use isinstance(dtype, CategoricalDtype) instead\n",
      "  if pd.api.types.is_categorical_dtype(vector):\n",
      "/Users/t.voitekh/.pyenv/versions/3.9.16/lib/python3.9/site-packages/seaborn/_oldcore.py:1119: FutureWarning: use_inf_as_na option is deprecated and will be removed in a future version. Convert inf values to NaN before operating instead.\n",
      "  with pd.option_context('mode.use_inf_as_na', True):\n"
     ]
    },
    {
     "data": {
      "image/png": "[encoded data removed]",
      "text/plain": [
       "<Figure size 1000x500 with 1 Axes>"
      ]
     },
     "metadata": {},
     "output_type": "display_data"
    }
   ],
   "source": [
    "plt.figure(figsize=(10, 5))\n",
    "sns.histplot(premise_lengths, bins=20, kde=True, label='Premise Length')\n",
    "sns.histplot(hypothesis_lengths, bins=20, kde=True, label='Hypothesis Length')\n",
    "plt.title('Distribution of Text Lengths')\n",
    "plt.xlabel('Text Length')\n",
    "plt.legend()\n",
    "plt.show()"
   ]
  },
  {
   "cell_type": "markdown",
   "metadata": {},
   "source": [
    "Here we output some statistics about the lengths of the premises and the hypotheses. It can be observed that the values of all the metrics of the premises are greater than those of the hypotheses\n"
   ]
  },
  {
   "cell_type": "code",
   "execution_count": 8,
   "metadata": {},
   "outputs": [
    {
     "name": "stdout",
     "output_type": "stream",
     "text": [
      "Premise Length Statistics:\n",
      "Maximum: 300\n",
      "Average: 72.37\n",
      "Median: 64.0\n",
      "Minimum: 13\n",
      "\n",
      "Hypothesis Length Statistics:\n",
      "Maximum: 232\n",
      "Average: 37.9336\n",
      "Median: 35.0\n",
      "Minimum: 6\n"
     ]
    }
   ],
   "source": [
    "premise_max = np.max(premise_lengths)\n",
    "premise_avg = np.mean(premise_lengths)\n",
    "premise_median = np.median(premise_lengths)\n",
    "premise_min = np.min(premise_lengths)\n",
    "\n",
    "hypothesis_max = np.max(hypothesis_lengths)\n",
    "hypothesis_avg = np.mean(hypothesis_lengths)\n",
    "hypothesis_median = np.median(hypothesis_lengths)\n",
    "hypothesis_min = np.min(hypothesis_lengths)\n",
    "\n",
    "print(\"Premise Length Statistics:\")\n",
    "print(f\"Maximum: {premise_max}\")\n",
    "print(f\"Average: {premise_avg}\")\n",
    "print(f\"Median: {premise_median}\")\n",
    "print(f\"Minimum: {premise_min}\")\n",
    "\n",
    "print(\"\\nHypothesis Length Statistics:\")\n",
    "print(f\"Maximum: {hypothesis_max}\")\n",
    "print(f\"Average: {hypothesis_avg}\")\n",
    "print(f\"Median: {hypothesis_median}\")\n",
    "print(f\"Minimum: {hypothesis_min}\")"
   ]
  },
  {
   "cell_type": "markdown",
   "metadata": {},
   "source": [
    "Here we output the unique labels. Note that dataset also containes constructions labeled with -1. This indicates that they could not be classified appropriately\n"
   ]
  },
  {
   "cell_type": "code",
   "execution_count": 9,
   "metadata": {},
   "outputs": [
    {
     "name": "stdout",
     "output_type": "stream",
     "text": [
      "Unique Labels: {0, 1, 2, -1}\n"
     ]
    }
   ],
   "source": [
    "unique_labels = set(subset_df['label'])\n",
    "print(\"Unique Labels:\", unique_labels)"
   ]
  },
  {
   "cell_type": "markdown",
   "metadata": {},
   "source": [
    "Here we analyse if the dataset contains any missing values (i.e null values). As can be seen below, all the values in the dataset are null, hence, additional preprocessing is not needed.\n"
   ]
  },
  {
   "cell_type": "code",
   "execution_count": 10,
   "metadata": {},
   "outputs": [
    {
     "name": "stdout",
     "output_type": "stream",
     "text": [
      "Missing Values:\n",
      "premise       0\n",
      "hypothesis    0\n",
      "label         0\n",
      "dtype: int64\n"
     ]
    }
   ],
   "source": [
    "missing_values = subset_df.isnull().sum()\n",
    "print(\"Missing Values:\")\n",
    "print(missing_values)"
   ]
  },
  {
   "cell_type": "markdown",
   "metadata": {},
   "source": [
    "Finally, we give an overview of the meaning of the labels in the dataset. Labels are ranged from 0 to 2 matching to \"enatailment\", \"neutral\", and \"contradiction\" respectively. Consider a final example in each category (a premise starting with \"A man in a blue shirt standing...\"). Here in each category you can see that the hypothesis precisely aligns with the label\n"
   ]
  },
  {
   "cell_type": "code",
   "execution_count": 11,
   "metadata": {},
   "outputs": [
    {
     "name": "stdout",
     "output_type": "stream",
     "text": [
      "Examples of Entailment:\n",
      "                                              premise  \\\n",
      "1   Two women are embracing while holding to go pa...   \n",
      "3   Two young children in blue jerseys, one with t...   \n",
      "8   A man selling donuts to a customer during a wo...   \n",
      "9   Two young boys of opposing teams play football...   \n",
      "13  A man in a blue shirt standing in front of a g...   \n",
      "\n",
      "                                        hypothesis  \n",
      "1                  Two woman are holding packages.  \n",
      "3   Two kids in numbered jerseys wash their hands.  \n",
      "8              A man selling donuts to a customer.  \n",
      "9                               boys play football  \n",
      "13                   A man is wearing a blue shirt  \n",
      "\n",
      "Examples of Neutral:\n",
      "                                              premise  \\\n",
      "0   Two women are embracing while holding to go pa...   \n",
      "4   Two young children in blue jerseys, one with t...   \n",
      "7   A man selling donuts to a customer during a wo...   \n",
      "11  Two young boys of opposing teams play football...   \n",
      "12  A man in a blue shirt standing in front of a g...   \n",
      "\n",
      "                                           hypothesis  \n",
      "0   The sisters are hugging goodbye while holding ...  \n",
      "4            Two kids at a ballgame wash their hands.  \n",
      "7   A man selling donuts to a customer during a wo...  \n",
      "11                           boys scoring a touchdown  \n",
      "12                       A man is repainting a garage  \n",
      "\n",
      "Examples of Contradiction:\n",
      "                                              premise  \\\n",
      "2   Two women are embracing while holding to go pa...   \n",
      "5   Two young children in blue jerseys, one with t...   \n",
      "6   A man selling donuts to a customer during a wo...   \n",
      "10  Two young boys of opposing teams play football...   \n",
      "14  A man in a blue shirt standing in front of a g...   \n",
      "\n",
      "                                    hypothesis  \n",
      "2         The men are fighting outside a deli.  \n",
      "5          Two kids in jackets walk to school.  \n",
      "6   A woman drinks her coffee in a small cafe.  \n",
      "10                        dog eats out of bowl  \n",
      "14              A man is wearing a black shirt  \n",
      "\n"
     ]
    }
   ],
   "source": [
    "entailment_examples = subset_df[subset_df['label'] == 0].iloc[:5, [0, 1]]\n",
    "neutral_examples = subset_df[subset_df['label'] == 1].iloc[:5, [0, 1]]\n",
    "contradiction_examples = subset_df[subset_df['label'] == 2].iloc[:5, [0, 1]]\n",
    "\n",
    "print(\"Examples of Entailment:\")\n",
    "print(entailment_examples)\n",
    "print()\n",
    "\n",
    "print(\"Examples of Neutral:\")\n",
    "print(neutral_examples)\n",
    "print()\n",
    "\n",
    "print(\"Examples of Contradiction:\")\n",
    "print(contradiction_examples)\n",
    "print()"
   ]
  },
  {
   "cell_type": "code",
   "execution_count": null,
   "metadata": {},
   "outputs": [],
   "source": []
  }
 ],
 "metadata": {
  "kernelspec": {
   "display_name": "Python 3 (ipykernel)",
   "language": "python",
   "name": "python3"
  },
  "language_info": {
   "codemirror_mode": {
    "name": "ipython",
    "version": 3
   },
   "file_extension": ".py",
   "mimetype": "text/x-python",
   "name": "python",
   "nbconvert_exporter": "python",
   "pygments_lexer": "ipython3",
   "version": "3.9.16"
  },
  "toc": {
   "base_numbering": 1,
   "nav_menu": {},
   "number_sections": true,
   "sideBar": true,
   "skip_h1_title": false,
   "title_cell": "Table of Contents",
   "title_sidebar": "Contents",
   "toc_cell": false,
   "toc_position": {},
   "toc_section_display": true,
   "toc_window_display": false
  }
 },
 "nbformat": 4,
 "nbformat_minor": 2
}
